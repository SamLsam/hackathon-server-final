{
 "cells": [
  {
   "cell_type": "code",
   "execution_count": 1,
   "id": "1ec78a1e-f6d5-4a10-85f6-1f925a8ee45f",
   "metadata": {},
   "outputs": [],
   "source": [
    "import pandas as pd"
   ]
  },
  {
   "cell_type": "code",
   "execution_count": 2,
   "id": "72ec96e7-5945-4092-8512-887a6a015946",
   "metadata": {},
   "outputs": [],
   "source": [
    "train_0_ans = pd.read_csv(\"train_0_ans_play_off.csv\")"
   ]
  },
  {
   "cell_type": "code",
   "execution_count": 3,
   "id": "cb4d8717-ab7d-45cf-a57a-37ab25939091",
   "metadata": {},
   "outputs": [],
   "source": [
    "train_1_ans = pd.read_csv(\"train_1_ans_play_off.csv\")"
   ]
  },
  {
   "cell_type": "code",
   "execution_count": 4,
   "id": "73cc54de-19f2-46c6-a3cb-b460b8e75478",
   "metadata": {},
   "outputs": [],
   "source": [
    "train_2_ans = pd.read_csv(\"train_2_ans_play_off.csv\")"
   ]
  },
  {
   "cell_type": "code",
   "execution_count": 5,
   "id": "860f6997-4823-4c6c-9701-c895d895d8fe",
   "metadata": {},
   "outputs": [],
   "source": [
    "train_3_ans = pd.read_csv(\"train_3_ans_play_off.csv\")"
   ]
  },
  {
   "cell_type": "code",
   "execution_count": 6,
   "id": "e6ec35b6-f276-4d18-9e7d-3fde66253f31",
   "metadata": {},
   "outputs": [],
   "source": [
    "train_4_ans = pd.read_csv(\"train_4_ans_play_off.csv\")"
   ]
  },
  {
   "cell_type": "code",
   "execution_count": 8,
   "id": "c506633a-a045-47af-831d-479726873c3e",
   "metadata": {},
   "outputs": [],
   "source": [
    "train_5_ans = pd.read_csv(\"train_5_ans_play_off.csv\")"
   ]
  },
  {
   "cell_type": "code",
   "execution_count": 9,
   "id": "dfb6c982-62b0-48d6-af21-c11c3e4a5bc3",
   "metadata": {},
   "outputs": [],
   "source": [
    "train_6_ans = pd.read_csv(\"train_6_ans_play_off.csv\")"
   ]
  },
  {
   "cell_type": "code",
   "execution_count": 10,
   "id": "986f6008-ddf8-417e-8729-1972aa0f22fd",
   "metadata": {},
   "outputs": [],
   "source": [
    "concat = pd.concat([train_0_ans, train_1_ans, train_2_ans, train_3_ans, train_4_ans, train_5_ans, train_6_ans])\n",
    "concat.reset_index(inplace=True)"
   ]
  },
  {
   "cell_type": "code",
   "execution_count": 11,
   "id": "a1768eb3-5c77-44b8-b938-c906d7b28cab",
   "metadata": {},
   "outputs": [],
   "source": [
    "predict = pd.DataFrame()\n",
    "\n",
    "predict[\"БЕ\"] = concat[\"БЕ\"].values\n",
    "predict[\"Месяц\"] = concat[\"Месяц\"].values\n",
    "predict[\"Дата транзакции\"] = concat[\"Дата транзакции\"].values\n",
    "predict[\"Сумма в RUB\"] = concat[\"Сумма в RUB\"].values"
   ]
  },
  {
   "cell_type": "code",
   "execution_count": 12,
   "id": "2e5d3eb8-0681-4529-8872-38e9f55c468f",
   "metadata": {},
   "outputs": [
    {
     "data": {
      "text/html": [
       "<div>\n",
       "<style scoped>\n",
       "    .dataframe tbody tr th:only-of-type {\n",
       "        vertical-align: middle;\n",
       "    }\n",
       "\n",
       "    .dataframe tbody tr th {\n",
       "        vertical-align: top;\n",
       "    }\n",
       "\n",
       "    .dataframe thead th {\n",
       "        text-align: right;\n",
       "    }\n",
       "</style>\n",
       "<table border=\"1\" class=\"dataframe\">\n",
       "  <thead>\n",
       "    <tr style=\"text-align: right;\">\n",
       "      <th></th>\n",
       "      <th>БЕ</th>\n",
       "      <th>Месяц</th>\n",
       "      <th>Дата транзакции</th>\n",
       "      <th>Сумма в RUB</th>\n",
       "    </tr>\n",
       "  </thead>\n",
       "  <tbody>\n",
       "    <tr>\n",
       "      <th>0</th>\n",
       "      <td>0</td>\n",
       "      <td>4</td>\n",
       "      <td>2021-04-01</td>\n",
       "      <td>-6.759238e+06</td>\n",
       "    </tr>\n",
       "    <tr>\n",
       "      <th>1</th>\n",
       "      <td>0</td>\n",
       "      <td>4</td>\n",
       "      <td>2021-04-02</td>\n",
       "      <td>-1.620664e+07</td>\n",
       "    </tr>\n",
       "    <tr>\n",
       "      <th>2</th>\n",
       "      <td>0</td>\n",
       "      <td>4</td>\n",
       "      <td>2021-04-03</td>\n",
       "      <td>-1.787828e+07</td>\n",
       "    </tr>\n",
       "    <tr>\n",
       "      <th>3</th>\n",
       "      <td>0</td>\n",
       "      <td>4</td>\n",
       "      <td>2021-04-04</td>\n",
       "      <td>-1.949049e+07</td>\n",
       "    </tr>\n",
       "    <tr>\n",
       "      <th>4</th>\n",
       "      <td>0</td>\n",
       "      <td>4</td>\n",
       "      <td>2021-04-05</td>\n",
       "      <td>-2.059406e+07</td>\n",
       "    </tr>\n",
       "    <tr>\n",
       "      <th>...</th>\n",
       "      <td>...</td>\n",
       "      <td>...</td>\n",
       "      <td>...</td>\n",
       "      <td>...</td>\n",
       "    </tr>\n",
       "    <tr>\n",
       "      <th>632</th>\n",
       "      <td>6</td>\n",
       "      <td>6</td>\n",
       "      <td>2021-06-26</td>\n",
       "      <td>-3.828821e+06</td>\n",
       "    </tr>\n",
       "    <tr>\n",
       "      <th>633</th>\n",
       "      <td>6</td>\n",
       "      <td>6</td>\n",
       "      <td>2021-06-27</td>\n",
       "      <td>-3.828821e+06</td>\n",
       "    </tr>\n",
       "    <tr>\n",
       "      <th>634</th>\n",
       "      <td>6</td>\n",
       "      <td>6</td>\n",
       "      <td>2021-06-28</td>\n",
       "      <td>-3.828821e+06</td>\n",
       "    </tr>\n",
       "    <tr>\n",
       "      <th>635</th>\n",
       "      <td>6</td>\n",
       "      <td>6</td>\n",
       "      <td>2021-06-29</td>\n",
       "      <td>-3.828821e+06</td>\n",
       "    </tr>\n",
       "    <tr>\n",
       "      <th>636</th>\n",
       "      <td>6</td>\n",
       "      <td>6</td>\n",
       "      <td>2021-06-30</td>\n",
       "      <td>-5.400632e+06</td>\n",
       "    </tr>\n",
       "  </tbody>\n",
       "</table>\n",
       "<p>637 rows × 4 columns</p>\n",
       "</div>"
      ],
      "text/plain": [
       "     БЕ  Месяц Дата транзакции   Сумма в RUB\n",
       "0     0      4      2021-04-01 -6.759238e+06\n",
       "1     0      4      2021-04-02 -1.620664e+07\n",
       "2     0      4      2021-04-03 -1.787828e+07\n",
       "3     0      4      2021-04-04 -1.949049e+07\n",
       "4     0      4      2021-04-05 -2.059406e+07\n",
       "..   ..    ...             ...           ...\n",
       "632   6      6      2021-06-26 -3.828821e+06\n",
       "633   6      6      2021-06-27 -3.828821e+06\n",
       "634   6      6      2021-06-28 -3.828821e+06\n",
       "635   6      6      2021-06-29 -3.828821e+06\n",
       "636   6      6      2021-06-30 -5.400632e+06\n",
       "\n",
       "[637 rows x 4 columns]"
      ]
     },
     "execution_count": 12,
     "metadata": {},
     "output_type": "execute_result"
    }
   ],
   "source": [
    "predict"
   ]
  },
  {
   "cell_type": "code",
   "execution_count": 13,
   "id": "1a3e9492-f3ab-49ac-9ebc-1844d8d31dae",
   "metadata": {},
   "outputs": [],
   "source": [
    "predict.to_excel(\"play_off_predict.xlsx\", sheet_name='Лист1', index=False)"
   ]
  },
  {
   "cell_type": "code",
   "execution_count": null,
   "id": "4e09d678-a8a9-4089-8654-767abd4dec92",
   "metadata": {},
   "outputs": [],
   "source": []
  }
 ],
 "metadata": {
  "kernelspec": {
   "display_name": "Python 3 (ipykernel)",
   "language": "python",
   "name": "python3"
  },
  "language_info": {
   "codemirror_mode": {
    "name": "ipython",
    "version": 3
   },
   "file_extension": ".py",
   "mimetype": "text/x-python",
   "name": "python",
   "nbconvert_exporter": "python",
   "pygments_lexer": "ipython3",
   "version": "3.7.12"
  }
 },
 "nbformat": 4,
 "nbformat_minor": 5
}
